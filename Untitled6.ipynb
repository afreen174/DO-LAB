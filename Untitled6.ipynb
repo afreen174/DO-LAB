{
  "nbformat": 4,
  "nbformat_minor": 0,
  "metadata": {
    "colab": {
      "provenance": [],
      "mount_file_id": "1J6-oq8yNSMnNFQ1AgH1QYlGKxmfNyS3O",
      "authorship_tag": "ABX9TyPLseHEaUPV75QtTjNujTU8",
      "include_colab_link": true
    },
    "kernelspec": {
      "name": "python3",
      "display_name": "Python 3"
    },
    "language_info": {
      "name": "python"
    }
  },
  "cells": [
    {
      "cell_type": "markdown",
      "metadata": {
        "id": "view-in-github",
        "colab_type": "text"
      },
      "source": [
        "<a href=\"https://colab.research.google.com/github/afreen174/DO-LAB/blob/main/Untitled6.ipynb\" target=\"_parent\"><img src=\"https://colab.research.google.com/assets/colab-badge.svg\" alt=\"Open In Colab\"/></a>"
      ]
    },
    {
      "cell_type": "code",
      "execution_count": null,
      "metadata": {
        "id": "eB3bmQeWz8tV"
      },
      "outputs": [],
      "source": []
    },
    {
      "cell_type": "code",
      "execution_count": 1,
      "metadata": {
        "id": "WIDFjv15GR1q"
      },
      "outputs": [],
      "source": [
        "import pandas as pd\n",
        "df = pd.read_excel(\"/Copy of ODD.xlsx\")"
      ]
    },
    {
      "cell_type": "code",
      "source": [
        "print(\"Column Names:\", df.columns.tolist())"
      ],
      "metadata": {
        "colab": {
          "base_uri": "https://localhost:8080/"
        },
        "id": "ju8ugFgCHnxH",
        "outputId": "80d13495-7f22-4439-bd91-66ded2e1664b"
      },
      "execution_count": 2,
      "outputs": [
        {
          "output_type": "stream",
          "name": "stdout",
          "text": [
            "Column Names: ['Booking_ID', 'Customer_ID', 'Destination', 'Travel_Dates', 'Booking_Date', 'Number_of_Travelers', 'Travel_Package', 'Payment_Method', 'Total_Cost', 'Travel_Agent', 'Customer_Feedback']\n"
          ]
        }
      ]
    },
    {
      "cell_type": "code",
      "source": [
        "df.columns = df.columns.str.strip()"
      ],
      "metadata": {
        "id": "Q0ngkh_kHq6b"
      },
      "execution_count": 3,
      "outputs": []
    },
    {
      "cell_type": "code",
      "source": [
        "avg_cost_per_package = df.groupby(\"Travel_Package\")[\"Total_Cost\"].mean()\n",
        "print(\"\\nAverage Total Cost per Travel Package:\")\n",
        "print(avg_cost_per_package)"
      ],
      "metadata": {
        "colab": {
          "base_uri": "https://localhost:8080/"
        },
        "id": "DwIl0_RIJHHm",
        "outputId": "1f36a240-822a-48af-e342-78c6c7d3a8a1"
      },
      "execution_count": null,
      "outputs": [
        {
          "output_type": "stream",
          "name": "stdout",
          "text": [
            "\n",
            "Average Total Cost per Travel Package:\n",
            "Travel_Package\n",
            "Luxury      53732.465158\n",
            "Premium     51603.118568\n",
            "Standard    52588.036084\n",
            "Name: Total_Cost, dtype: float64\n"
          ]
        }
      ]
    },
    {
      "cell_type": "code",
      "source": [
        "df[\"Travel_Dates\"] = pd.to_datetime(df[\"Travel_Dates\"], errors=\"coerce\")\n",
        "earliest_travel_date = df[\"Travel_Dates\"].min()\n",
        "latest_travel_date = df[\"Travel_Dates\"].max()\n",
        "print(\"\\nEarliest Travel Date:\", earliest_travel_date)\n",
        "print(\"Latest Travel Date:\", latest_travel_date)"
      ],
      "metadata": {
        "colab": {
          "base_uri": "https://localhost:8080/"
        },
        "id": "VhHD743MK8ul",
        "outputId": "4e48e792-2214-4057-cbd3-63a73a5e7736"
      },
      "execution_count": 10,
      "outputs": [
        {
          "output_type": "stream",
          "name": "stdout",
          "text": [
            "\n",
            "Earliest Travel Date: 2023-08-20 20:25:00-02:00\n",
            "Latest Travel Date: 2024-08-16 20:25:00-02:00\n"
          ]
        }
      ]
    },
    {
      "cell_type": "code",
      "source": [
        "unique_destinations = df[\"Destination\"].nunique()\n",
        "print(\"\\nNumber of Unique Destinations:\", unique_destinations)"
      ],
      "metadata": {
        "colab": {
          "base_uri": "https://localhost:8080/"
        },
        "id": "YGg4zYohLSFY",
        "outputId": "86c47a2b-9533-4e6e-9759-9e8cc9399d88"
      },
      "execution_count": 6,
      "outputs": [
        {
          "output_type": "stream",
          "name": "stdout",
          "text": [
            "\n",
            "Number of Unique Destinations: 858\n"
          ]
        }
      ]
    },
    {
      "cell_type": "code",
      "source": [
        "range1 = str(earliest_travel_date.date()) + \" to \" + str(latest_travel_date.date())\n",
        "print(\"\\nDate Range:\", range1)"
      ],
      "metadata": {
        "colab": {
          "base_uri": "https://localhost:8080/"
        },
        "id": "IycygaVALTF4",
        "outputId": "7ffe918f-01ff-4612-adf3-564751b3b156"
      },
      "execution_count": 11,
      "outputs": [
        {
          "output_type": "stream",
          "name": "stdout",
          "text": [
            "\n",
            "Date Range: 2023-08-20 to 2024-08-16\n"
          ]
        }
      ]
    },
    {
      "cell_type": "code",
      "source": [
        "date_formats_consistent = df[\"Travel_Dates\"].notna().all()\n",
        "print(\"\\nDate Format Consistency:\", date_formats_consistent)"
      ],
      "metadata": {
        "colab": {
          "base_uri": "https://localhost:8080/"
        },
        "id": "ehHBjrsXLWJU",
        "outputId": "e90fda23-f4bd-401b-a2a1-a46889760aa1"
      },
      "execution_count": 4,
      "outputs": [
        {
          "output_type": "stream",
          "name": "stdout",
          "text": [
            "\n",
            "Date Format Consistency: False\n"
          ]
        }
      ]
    }
  ]
}